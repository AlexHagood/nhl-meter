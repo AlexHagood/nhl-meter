{
 "cells": [
  {
   "cell_type": "code",
   "execution_count": null,
   "metadata": {},
   "outputs": [],
   "source": [
    "import matplotlib.pyplot as plt\n",
    "import pickle\n",
    "\n",
    "def graphGame(q):\n",
    "    t = q.copy()\n",
    "    t[\"Odds\"] = t[\"Total_Time\"].apply(lambda x: (x / 3600)) ## temp linear odds\n",
    "    period_ends = t[t[\"Event\"] == \"PEND\"][\"Total_Time\"].drop_duplicates().to_list()\n",
    "    for pend in period_ends:\n",
    "        plt.axvline(x=pend, color='gray', linestyle='--', alpha=0.5)\n",
    "\n",
    "    \n",
    "\n",
    "    for n in range(1, 10):\n",
    "        plt.plot(t[\"Total_Time\"], t[\"Odds\"], color='red', alpha=0.1/n, linewidth=2 + n)\n",
    "    plt.plot(t[\"Total_Time\"], t[\"Odds\"], color='black', linewidth=2)\n",
    "    plt.xlabel('Seconds Elapsed')\n",
    "    plt.yticks(ticks=[i/10 for i in range(0, 11)], labels=[f'{i*10}%' for i in range(0, 11)])\n",
    "    plt.ylabel('Win Odds')\n",
    "    plt.title('Seconds Elapsed vs Win Odds')\n",
    "    plt.show()\n",
    "\n"
   ]
  },
  {
   "cell_type": "markdown",
   "metadata": {},
   "source": [
    "with open(\"model.pkl\", \"rb\") as file:\n",
    "    model = pickle.load(file)\n",
    "\n",
    "# Use the loaded model for predictions\n",
    "predictions = model.predict(data)"
   ]
  }
 ],
 "metadata": {
  "kernelspec": {
   "display_name": ".venv",
   "language": "python",
   "name": "python3"
  },
  "language_info": {
   "name": "python",
   "version": "3.11.9"
  }
 },
 "nbformat": 4,
 "nbformat_minor": 2
}
