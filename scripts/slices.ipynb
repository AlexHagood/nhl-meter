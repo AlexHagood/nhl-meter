{
 "cells": [
  {
   "cell_type": "code",
   "execution_count": 1,
   "metadata": {},
   "outputs": [],
   "source": [
    "import copy\n",
    "import re\n",
    "import pandas as pd\n",
    "from tqdm import tqdm\n",
    "\n",
    "slice_length = 30  # slice in seconds\n",
    "\n",
    "games = pd.read_parquet(\"../data/game_elo.parquet\")\n",
    "pbp = pd.read_parquet(\"../data/pbp_reduced.parquet\")\n",
    "\n",
    "games[\"Game_Id\"] = games[\"Game_Id\"].astype(\"int64\")\n",
    "\n",
    "def convert_strength_to_int(strength: str) -> int:\n",
    "    players = strength.split('x')\n",
    "    # home - away\n",
    "    return int(players[0]) - int(players[1])"
   ]
  },
  {
   "cell_type": "code",
   "execution_count": 2,
   "metadata": {},
   "outputs": [
    {
     "name": "stderr",
     "output_type": "stream",
     "text": [
      "100%|██████████| 21677/21677 [10:45<00:00, 33.58it/s]\n"
     ]
    }
   ],
   "source": [
    "slices = []\n",
    "\n",
    "for idx, game in tqdm(games.iterrows(), total=len(games)):\n",
    "    cur_cutoff = slice_length\n",
    "    \n",
    "    game_totals = {\n",
    "        \"game\": game[\"Game_Id\"],\n",
    "        \"season\": game[\"Season\"],\n",
    "        \"time_remaining\": 3600,  # three periods of 20 minutes, in seconds\n",
    "        \"away_elo\": game[\"Away_Starting_Elo\"],\n",
    "        \"home_elo\": game[\"Home_Starting_Elo\"],\n",
    "        \"away_score\": 0,\n",
    "        \"home_score\": 0,\n",
    "        \"away_pim\": 0,\n",
    "        \"home_pim\": 0,\n",
    "        \"away_hits\": 0,\n",
    "        \"home_hits\": 0,\n",
    "        \"away_shots\": 0,\n",
    "        \"home_shots\": 0,\n",
    "        \"strength\": 0,\n",
    "        \"winner\": \"home\" if game[\"Home_Score\"] > game[\"Away_Score\"] else \"away\"\n",
    "    }\n",
    "\n",
    "    slices.append(game_totals)  # initial based purely on Elo\n",
    "\n",
    "    reduced = pbp[(pbp[\"Game_Id\"] == game[\"Game_Id\"]) & (pbp[\"Date\"] == game[\"Date\"])]\n",
    "    for idx, play in reduced.iterrows():\n",
    "        elapsed = play[\"Seconds_Elapsed\"] + (play[\"Period\"] - 1) * 1200\n",
    "        if elapsed > (1200 * 3):\n",
    "            break  # ignoring overtime\n",
    "        if elapsed >= cur_cutoff:\n",
    "            # convert to time remaining\n",
    "            game_totals[\"time_remaining\"] = 3600 - cur_cutoff\n",
    "            slices.append(copy.deepcopy(game_totals))\n",
    "            cur_cutoff += 30\n",
    "\n",
    "        if play[\"Ev_Team\"] == game[\"Home_Team\"]:\n",
    "            team = \"home\"\n",
    "        elif play[\"Ev_Team\"] == game[\"Away_Team\"]:\n",
    "            team = \"away\"\n",
    "        else:\n",
    "            team = None\n",
    "\n",
    "        if team:\n",
    "            match play[\"Event\"]:\n",
    "                case \"SHOT\":\n",
    "                    game_totals[f\"{team}_shots\"] += 1\n",
    "                case \"HIT\":\n",
    "                    game_totals[f\"{team}_hits\"] += 1\n",
    "                case \"PENL\":\n",
    "                    try:\n",
    "                        text = play[\"Type\"].split(\"(\")[1]  # some penalty descriptions have player number\n",
    "                        if \"maj\" in text:\n",
    "                            game_totals[f\"{team}_pim\"] += 5\n",
    "                        else:\n",
    "                            mins = re.search(r'\\d+', text)\n",
    "                            game_totals[f\"{team}_pim\"] += int(mins.group())\n",
    "                    except (IndexError, AttributeError):\n",
    "                        pass  # some penalties are missing descriptions\n",
    "                case \"GOAL\":\n",
    "                    game_totals[f\"{team}_score\"] += 1\n",
    "\n",
    "        game_totals[\"strength\"] = convert_strength_to_int(play[\"Strength\"])  # always update strength"
   ]
  },
  {
   "cell_type": "code",
   "execution_count": 3,
   "metadata": {},
   "outputs": [],
   "source": [
    "df = pd.DataFrame(slices)\n",
    "df.to_parquet(\"../data/time_slices.parquet\")"
   ]
  }
 ],
 "metadata": {
  "kernelspec": {
   "display_name": ".venv",
   "language": "python",
   "name": "python3"
  },
  "language_info": {
   "codemirror_mode": {
    "name": "ipython",
    "version": 3
   },
   "file_extension": ".py",
   "mimetype": "text/x-python",
   "name": "python",
   "nbconvert_exporter": "python",
   "pygments_lexer": "ipython3",
   "version": "3.11.9"
  }
 },
 "nbformat": 4,
 "nbformat_minor": 2
}
