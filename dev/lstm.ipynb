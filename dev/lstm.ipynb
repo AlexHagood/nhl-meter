{
 "cells": [
  {
   "cell_type": "code",
   "execution_count": 1,
   "metadata": {},
   "outputs": [
    {
     "name": "stderr",
     "output_type": "stream",
     "text": [
      "2024-12-20 15:12:27.674051: E external/local_xla/xla/stream_executor/cuda/cuda_fft.cc:477] Unable to register cuFFT factory: Attempting to register factory for plugin cuFFT when one has already been registered\n",
      "WARNING: All log messages before absl::InitializeLog() is called are written to STDERR\n",
      "E0000 00:00:1734736347.691838  454329 cuda_dnn.cc:8310] Unable to register cuDNN factory: Attempting to register factory for plugin cuDNN when one has already been registered\n",
      "E0000 00:00:1734736347.696827  454329 cuda_blas.cc:1418] Unable to register cuBLAS factory: Attempting to register factory for plugin cuBLAS when one has already been registered\n",
      "2024-12-20 15:12:27.715552: I tensorflow/core/platform/cpu_feature_guard.cc:210] This TensorFlow binary is optimized to use available CPU instructions in performance-critical operations.\n",
      "To enable the following instructions: AVX2 FMA, in other operations, rebuild TensorFlow with the appropriate compiler flags.\n"
     ]
    }
   ],
   "source": [
    "# adapted from https://machinelearningmastery.com/multivariate-time-series-forecasting-lstms-keras/\n",
    "\n",
    "import pandas as pd\n",
    "import tensorflow as tf\n",
    "\n",
    "# fix random seed for reproducibility\n",
    "tf.random.set_seed(7)"
   ]
  },
  {
   "cell_type": "code",
   "execution_count": 2,
   "metadata": {},
   "outputs": [],
   "source": [
    "from sklearn.model_selection import train_test_split\n",
    "from sklearn.preprocessing import LabelEncoder\n",
    "\n",
    "df = pd.read_parquet(\"../data/time_slices.parquet\")\n",
    "\n",
    "X = df.drop([\"winner\", \"season\", \"game\"], axis=1)\n",
    "y = df[\"winner\"]\n",
    "\n",
    "encoder = LabelEncoder()\n",
    "y = encoder.fit_transform(y)  # convert \"home\" and \"away\" to categories\n",
    "\n",
    "X_train, X_test, y_train, y_test = train_test_split(\n",
    "    X, y, train_size=0.8, random_state=42\n",
    ")"
   ]
  },
  {
   "cell_type": "code",
   "execution_count": 3,
   "metadata": {},
   "outputs": [
    {
     "name": "stderr",
     "output_type": "stream",
     "text": [
      "I0000 00:00:1734736351.115365  454329 gpu_device.cc:2022] Created device /job:localhost/replica:0/task:0/device:GPU:0 with 1383 MB memory:  -> device: 0, name: NVIDIA GeForce GT 1030, pci bus id: 0000:01:00.0, compute capability: 6.1\n"
     ]
    },
    {
     "name": "stdout",
     "output_type": "stream",
     "text": [
      "Epoch 1/100\n"
     ]
    },
    {
     "name": "stderr",
     "output_type": "stream",
     "text": [
      "I0000 00:00:1734736354.029411  454480 cuda_dnn.cc:529] Loaded cuDNN version 90600\n"
     ]
    },
    {
     "name": "stdout",
     "output_type": "stream",
     "text": [
      "\u001b[1m12610/12610\u001b[0m \u001b[32m━━━━━━━━━━━━━━━━━━━━\u001b[0m\u001b[37m\u001b[0m \u001b[1m75s\u001b[0m 6ms/step - loss: 0.4696 - val_loss: 0.4035\n",
      "Epoch 2/100\n",
      "\u001b[1m12610/12610\u001b[0m \u001b[32m━━━━━━━━━━━━━━━━━━━━\u001b[0m\u001b[37m\u001b[0m \u001b[1m71s\u001b[0m 6ms/step - loss: 0.4046 - val_loss: 0.4042\n",
      "Epoch 3/100\n",
      "\u001b[1m12610/12610\u001b[0m \u001b[32m━━━━━━━━━━━━━━━━━━━━\u001b[0m\u001b[37m\u001b[0m \u001b[1m72s\u001b[0m 6ms/step - loss: 0.4034 - val_loss: 0.4032\n",
      "Epoch 4/100\n",
      "\u001b[1m12610/12610\u001b[0m \u001b[32m━━━━━━━━━━━━━━━━━━━━\u001b[0m\u001b[37m\u001b[0m \u001b[1m74s\u001b[0m 6ms/step - loss: 0.4024 - val_loss: 0.4001\n",
      "Epoch 5/100\n",
      "\u001b[1m12610/12610\u001b[0m \u001b[32m━━━━━━━━━━━━━━━━━━━━\u001b[0m\u001b[37m\u001b[0m \u001b[1m73s\u001b[0m 6ms/step - loss: 0.4011 - val_loss: 0.4011\n",
      "Epoch 6/100\n",
      "\u001b[1m12610/12610\u001b[0m \u001b[32m━━━━━━━━━━━━━━━━━━━━\u001b[0m\u001b[37m\u001b[0m \u001b[1m73s\u001b[0m 6ms/step - loss: 0.4001 - val_loss: 0.3999\n",
      "Epoch 7/100\n",
      "\u001b[1m12610/12610\u001b[0m \u001b[32m━━━━━━━━━━━━━━━━━━━━\u001b[0m\u001b[37m\u001b[0m \u001b[1m74s\u001b[0m 6ms/step - loss: 0.3999 - val_loss: 0.4005\n",
      "Epoch 8/100\n",
      "\u001b[1m12610/12610\u001b[0m \u001b[32m━━━━━━━━━━━━━━━━━━━━\u001b[0m\u001b[37m\u001b[0m \u001b[1m72s\u001b[0m 6ms/step - loss: 0.3997 - val_loss: 0.3996\n",
      "Epoch 9/100\n",
      "\u001b[1m12610/12610\u001b[0m \u001b[32m━━━━━━━━━━━━━━━━━━━━\u001b[0m\u001b[37m\u001b[0m \u001b[1m74s\u001b[0m 6ms/step - loss: 0.3995 - val_loss: 0.3995\n",
      "Epoch 10/100\n",
      "\u001b[1m12610/12610\u001b[0m \u001b[32m━━━━━━━━━━━━━━━━━━━━\u001b[0m\u001b[37m\u001b[0m \u001b[1m74s\u001b[0m 6ms/step - loss: 0.3993 - val_loss: 0.3993\n",
      "Epoch 11/100\n",
      "\u001b[1m12610/12610\u001b[0m \u001b[32m━━━━━━━━━━━━━━━━━━━━\u001b[0m\u001b[37m\u001b[0m \u001b[1m74s\u001b[0m 6ms/step - loss: 0.3991 - val_loss: 0.3995\n",
      "Epoch 12/100\n",
      "\u001b[1m12610/12610\u001b[0m \u001b[32m━━━━━━━━━━━━━━━━━━━━\u001b[0m\u001b[37m\u001b[0m \u001b[1m74s\u001b[0m 6ms/step - loss: 0.3990 - val_loss: 0.3992\n",
      "Epoch 13/100\n",
      "\u001b[1m12610/12610\u001b[0m \u001b[32m━━━━━━━━━━━━━━━━━━━━\u001b[0m\u001b[37m\u001b[0m \u001b[1m75s\u001b[0m 6ms/step - loss: 0.3989 - val_loss: 0.3989\n",
      "Epoch 14/100\n",
      "\u001b[1m12610/12610\u001b[0m \u001b[32m━━━━━━━━━━━━━━━━━━━━\u001b[0m\u001b[37m\u001b[0m \u001b[1m74s\u001b[0m 6ms/step - loss: 0.3988 - val_loss: 0.3987\n",
      "Epoch 15/100\n",
      "\u001b[1m12610/12610\u001b[0m \u001b[32m━━━━━━━━━━━━━━━━━━━━\u001b[0m\u001b[37m\u001b[0m \u001b[1m74s\u001b[0m 6ms/step - loss: 0.3989 - val_loss: 0.3992\n",
      "Epoch 16/100\n",
      "\u001b[1m12610/12610\u001b[0m \u001b[32m━━━━━━━━━━━━━━━━━━━━\u001b[0m\u001b[37m\u001b[0m \u001b[1m76s\u001b[0m 6ms/step - loss: 0.3990 - val_loss: 0.3990\n",
      "Epoch 17/100\n",
      "\u001b[1m12610/12610\u001b[0m \u001b[32m━━━━━━━━━━━━━━━━━━━━\u001b[0m\u001b[37m\u001b[0m \u001b[1m76s\u001b[0m 6ms/step - loss: 0.3987 - val_loss: 0.3984\n",
      "Epoch 18/100\n",
      "\u001b[1m12610/12610\u001b[0m \u001b[32m━━━━━━━━━━━━━━━━━━━━\u001b[0m\u001b[37m\u001b[0m \u001b[1m75s\u001b[0m 6ms/step - loss: 0.3984 - val_loss: 0.3987\n",
      "Epoch 19/100\n",
      "\u001b[1m12610/12610\u001b[0m \u001b[32m━━━━━━━━━━━━━━━━━━━━\u001b[0m\u001b[37m\u001b[0m \u001b[1m77s\u001b[0m 6ms/step - loss: 0.3984 - val_loss: 0.3984\n",
      "Epoch 20/100\n",
      "\u001b[1m12610/12610\u001b[0m \u001b[32m━━━━━━━━━━━━━━━━━━━━\u001b[0m\u001b[37m\u001b[0m \u001b[1m75s\u001b[0m 6ms/step - loss: 0.3985 - val_loss: 0.3982\n",
      "Epoch 21/100\n",
      "\u001b[1m12610/12610\u001b[0m \u001b[32m━━━━━━━━━━━━━━━━━━━━\u001b[0m\u001b[37m\u001b[0m \u001b[1m76s\u001b[0m 6ms/step - loss: 0.3983 - val_loss: 0.3980\n",
      "Epoch 22/100\n",
      "\u001b[1m12610/12610\u001b[0m \u001b[32m━━━━━━━━━━━━━━━━━━━━\u001b[0m\u001b[37m\u001b[0m \u001b[1m77s\u001b[0m 6ms/step - loss: 0.3982 - val_loss: 0.3979\n",
      "Epoch 23/100\n",
      "\u001b[1m12610/12610\u001b[0m \u001b[32m━━━━━━━━━━━━━━━━━━━━\u001b[0m\u001b[37m\u001b[0m \u001b[1m75s\u001b[0m 6ms/step - loss: 0.3980 - val_loss: 0.3979\n",
      "Epoch 24/100\n",
      "\u001b[1m12610/12610\u001b[0m \u001b[32m━━━━━━━━━━━━━━━━━━━━\u001b[0m\u001b[37m\u001b[0m \u001b[1m77s\u001b[0m 6ms/step - loss: 0.3981 - val_loss: 0.3978\n",
      "Epoch 25/100\n",
      "\u001b[1m12610/12610\u001b[0m \u001b[32m━━━━━━━━━━━━━━━━━━━━\u001b[0m\u001b[37m\u001b[0m \u001b[1m76s\u001b[0m 6ms/step - loss: 0.3978 - val_loss: 0.3977\n",
      "Epoch 26/100\n",
      "\u001b[1m12610/12610\u001b[0m \u001b[32m━━━━━━━━━━━━━━━━━━━━\u001b[0m\u001b[37m\u001b[0m \u001b[1m77s\u001b[0m 6ms/step - loss: 0.3977 - val_loss: 0.3976\n",
      "Epoch 27/100\n",
      "\u001b[1m12610/12610\u001b[0m \u001b[32m━━━━━━━━━━━━━━━━━━━━\u001b[0m\u001b[37m\u001b[0m \u001b[1m76s\u001b[0m 6ms/step - loss: 0.3977 - val_loss: 0.3971\n",
      "Epoch 28/100\n",
      "\u001b[1m12610/12610\u001b[0m \u001b[32m━━━━━━━━━━━━━━━━━━━━\u001b[0m\u001b[37m\u001b[0m \u001b[1m76s\u001b[0m 6ms/step - loss: 0.3975 - val_loss: 0.3970\n",
      "Epoch 29/100\n",
      "\u001b[1m12610/12610\u001b[0m \u001b[32m━━━━━━━━━━━━━━━━━━━━\u001b[0m\u001b[37m\u001b[0m \u001b[1m77s\u001b[0m 6ms/step - loss: 0.3975 - val_loss: 0.3972\n",
      "Epoch 30/100\n",
      "\u001b[1m12610/12610\u001b[0m \u001b[32m━━━━━━━━━━━━━━━━━━━━\u001b[0m\u001b[37m\u001b[0m \u001b[1m77s\u001b[0m 6ms/step - loss: 0.3974 - val_loss: 0.3969\n",
      "Epoch 31/100\n",
      "\u001b[1m12610/12610\u001b[0m \u001b[32m━━━━━━━━━━━━━━━━━━━━\u001b[0m\u001b[37m\u001b[0m \u001b[1m77s\u001b[0m 6ms/step - loss: 0.3973 - val_loss: 0.3969\n",
      "Epoch 32/100\n",
      "\u001b[1m12610/12610\u001b[0m \u001b[32m━━━━━━━━━━━━━━━━━━━━\u001b[0m\u001b[37m\u001b[0m \u001b[1m78s\u001b[0m 6ms/step - loss: 0.3973 - val_loss: 0.3964\n",
      "Epoch 33/100\n",
      "\u001b[1m12610/12610\u001b[0m \u001b[32m━━━━━━━━━━━━━━━━━━━━\u001b[0m\u001b[37m\u001b[0m \u001b[1m76s\u001b[0m 6ms/step - loss: 0.3972 - val_loss: 0.3968\n",
      "Epoch 34/100\n",
      "\u001b[1m12610/12610\u001b[0m \u001b[32m━━━━━━━━━━━━━━━━━━━━\u001b[0m\u001b[37m\u001b[0m \u001b[1m76s\u001b[0m 6ms/step - loss: 0.3970 - val_loss: 0.3964\n",
      "Epoch 35/100\n",
      "\u001b[1m12610/12610\u001b[0m \u001b[32m━━━━━━━━━━━━━━━━━━━━\u001b[0m\u001b[37m\u001b[0m \u001b[1m77s\u001b[0m 6ms/step - loss: 0.3970 - val_loss: 0.3964\n",
      "Epoch 36/100\n",
      "\u001b[1m12610/12610\u001b[0m \u001b[32m━━━━━━━━━━━━━━━━━━━━\u001b[0m\u001b[37m\u001b[0m \u001b[1m78s\u001b[0m 6ms/step - loss: 0.3969 - val_loss: 0.3962\n",
      "Epoch 37/100\n",
      "\u001b[1m12610/12610\u001b[0m \u001b[32m━━━━━━━━━━━━━━━━━━━━\u001b[0m\u001b[37m\u001b[0m \u001b[1m75s\u001b[0m 6ms/step - loss: 0.3968 - val_loss: 0.3964\n",
      "Epoch 38/100\n",
      "\u001b[1m12610/12610\u001b[0m \u001b[32m━━━━━━━━━━━━━━━━━━━━\u001b[0m\u001b[37m\u001b[0m \u001b[1m77s\u001b[0m 6ms/step - loss: 0.3967 - val_loss: 0.3962\n",
      "Epoch 39/100\n",
      "\u001b[1m12610/12610\u001b[0m \u001b[32m━━━━━━━━━━━━━━━━━━━━\u001b[0m\u001b[37m\u001b[0m \u001b[1m76s\u001b[0m 6ms/step - loss: 0.3968 - val_loss: 0.3960\n",
      "Epoch 40/100\n",
      "\u001b[1m12610/12610\u001b[0m \u001b[32m━━━━━━━━━━━━━━━━━━━━\u001b[0m\u001b[37m\u001b[0m \u001b[1m77s\u001b[0m 6ms/step - loss: 0.3966 - val_loss: 0.3960\n",
      "Epoch 41/100\n",
      "\u001b[1m12610/12610\u001b[0m \u001b[32m━━━━━━━━━━━━━━━━━━━━\u001b[0m\u001b[37m\u001b[0m \u001b[1m78s\u001b[0m 6ms/step - loss: 0.3966 - val_loss: 0.3961\n",
      "Epoch 42/100\n",
      "\u001b[1m12610/12610\u001b[0m \u001b[32m━━━━━━━━━━━━━━━━━━━━\u001b[0m\u001b[37m\u001b[0m \u001b[1m78s\u001b[0m 6ms/step - loss: 0.3964 - val_loss: 0.3960\n",
      "Epoch 43/100\n",
      "\u001b[1m12610/12610\u001b[0m \u001b[32m━━━━━━━━━━━━━━━━━━━━\u001b[0m\u001b[37m\u001b[0m \u001b[1m77s\u001b[0m 6ms/step - loss: 0.3964 - val_loss: 0.3961\n",
      "Epoch 44/100\n",
      "\u001b[1m12610/12610\u001b[0m \u001b[32m━━━━━━━━━━━━━━━━━━━━\u001b[0m\u001b[37m\u001b[0m \u001b[1m77s\u001b[0m 6ms/step - loss: 0.3964 - val_loss: 0.3961\n",
      "Epoch 45/100\n",
      "\u001b[1m12610/12610\u001b[0m \u001b[32m━━━━━━━━━━━━━━━━━━━━\u001b[0m\u001b[37m\u001b[0m \u001b[1m79s\u001b[0m 6ms/step - loss: 0.3963 - val_loss: 0.3958\n",
      "Epoch 46/100\n",
      "\u001b[1m12610/12610\u001b[0m \u001b[32m━━━━━━━━━━━━━━━━━━━━\u001b[0m\u001b[37m\u001b[0m \u001b[1m76s\u001b[0m 6ms/step - loss: 0.3977 - val_loss: 0.3962\n",
      "Epoch 47/100\n",
      "\u001b[1m12610/12610\u001b[0m \u001b[32m━━━━━━━━━━━━━━━━━━━━\u001b[0m\u001b[37m\u001b[0m \u001b[1m76s\u001b[0m 6ms/step - loss: 0.3970 - val_loss: 0.3979\n",
      "Epoch 48/100\n",
      "\u001b[1m12610/12610\u001b[0m \u001b[32m━━━━━━━━━━━━━━━━━━━━\u001b[0m\u001b[37m\u001b[0m \u001b[1m78s\u001b[0m 6ms/step - loss: 0.3970 - val_loss: 0.3961\n",
      "Epoch 49/100\n",
      "\u001b[1m12610/12610\u001b[0m \u001b[32m━━━━━━━━━━━━━━━━━━━━\u001b[0m\u001b[37m\u001b[0m \u001b[1m77s\u001b[0m 6ms/step - loss: 0.3968 - val_loss: 0.3959\n",
      "Epoch 50/100\n",
      "\u001b[1m12610/12610\u001b[0m \u001b[32m━━━━━━━━━━━━━━━━━━━━\u001b[0m\u001b[37m\u001b[0m \u001b[1m77s\u001b[0m 6ms/step - loss: 0.3966 - val_loss: 0.3960\n",
      "Epoch 51/100\n",
      "\u001b[1m12610/12610\u001b[0m \u001b[32m━━━━━━━━━━━━━━━━━━━━\u001b[0m\u001b[37m\u001b[0m \u001b[1m77s\u001b[0m 6ms/step - loss: 0.3964 - val_loss: 0.3959\n",
      "Epoch 52/100\n",
      "\u001b[1m12610/12610\u001b[0m \u001b[32m━━━━━━━━━━━━━━━━━━━━\u001b[0m\u001b[37m\u001b[0m \u001b[1m77s\u001b[0m 6ms/step - loss: 0.3964 - val_loss: 0.3958\n",
      "Epoch 53/100\n",
      "\u001b[1m12610/12610\u001b[0m \u001b[32m━━━━━━━━━━━━━━━━━━━━\u001b[0m\u001b[37m\u001b[0m \u001b[1m76s\u001b[0m 6ms/step - loss: 0.3963 - val_loss: 0.3957\n",
      "Epoch 54/100\n",
      "\u001b[1m12610/12610\u001b[0m \u001b[32m━━━━━━━━━━━━━━━━━━━━\u001b[0m\u001b[37m\u001b[0m \u001b[1m78s\u001b[0m 6ms/step - loss: 0.3965 - val_loss: 0.3970\n",
      "Epoch 55/100\n",
      "\u001b[1m12610/12610\u001b[0m \u001b[32m━━━━━━━━━━━━━━━━━━━━\u001b[0m\u001b[37m\u001b[0m \u001b[1m76s\u001b[0m 6ms/step - loss: 0.3966 - val_loss: 0.3961\n"
     ]
    },
    {
     "data": {
      "image/png": "[encoded data removed]",
      "text/plain": [
       "<Figure size 640x480 with 1 Axes>"
      ]
     },
     "metadata": {},
     "output_type": "display_data"
    }
   ],
   "source": [
    "from keras.callbacks import EarlyStopping\n",
    "from keras.layers import LSTM, Dense, Dropout, Input\n",
    "from keras.models import Sequential\n",
    "from matplotlib import pyplot\n",
    "\n",
    "early_stopping = EarlyStopping(monitor='val_loss', patience=10, min_delta=0.0001, restore_best_weights=True)\n",
    "\n",
    "model = Sequential([\n",
    "    Input(shape=(1, 1)),\n",
    "    LSTM(16),\n",
    "    Dropout(0.2),\n",
    "    Dense(1, activation='sigmoid')\n",
    "])\n",
    "model.compile(loss='binary_crossentropy', optimizer='adam')\n",
    "\n",
    "history = model.fit(\n",
    "    X_train,\n",
    "    y_train,\n",
    "    epochs=100,\n",
    "    batch_size=128,\n",
    "    validation_data=(X_test, y_test),\n",
    "    callbacks=[early_stopping]\n",
    ")\n",
    "\n",
    "pyplot.plot(history.history['loss'], label='train')\n",
    "pyplot.plot(history.history['val_loss'], label='test')\n",
    "pyplot.legend()\n",
    "pyplot.show()"
   ]
  },
  {
   "cell_type": "code",
   "execution_count": 4,
   "metadata": {},
   "outputs": [],
   "source": [
    "model.save(\"meter_lstm16d2.keras\")"
   ]
  }
 ],
 "metadata": {
  "kernelspec": {
   "display_name": ".venv",
   "language": "python",
   "name": "python3"
  },
  "language_info": {
   "codemirror_mode": {
    "name": "ipython",
    "version": 3
   },
   "file_extension": ".py",
   "mimetype": "text/x-python",
   "name": "python",
   "nbconvert_exporter": "python",
   "pygments_lexer": "ipython3",
   "version": "3.10.12"
  }
 },
 "nbformat": 4,
 "nbformat_minor": 2
}
