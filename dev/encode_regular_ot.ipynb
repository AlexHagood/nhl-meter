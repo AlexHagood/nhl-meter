{
 "cells": [
  {
   "cell_type": "code",
   "execution_count": 14,
   "metadata": {},
   "outputs": [],
   "source": [
    "import pandas as pd\n",
    "from tqdm import tqdm\n",
    "\n",
    "games = pd.read_parquet(\"../data/games_elo.parquet\")\n",
    "pbp = pd.read_parquet(\"../data/pbp_reduced.parquet\")\n",
    "\n",
    "# ignore shootout\n",
    "regular_ot = games[(games[\"Period\"] == 4) & (games[\"Playoff\"] == False)]"
   ]
  },
  {
   "cell_type": "code",
   "execution_count": 15,
   "metadata": {},
   "outputs": [
    {
     "name": "stderr",
     "output_type": "stream",
     "text": [
      "100%|██████████| 2564/2564 [00:58<00:00, 43.54it/s]\n"
     ]
    }
   ],
   "source": [
    "valid_events = [\"FAC\", \"BLOCK\", \"SHOT\", \"GOAL\", \"MISS\", \"HIT\", \"GIVE\", \"TAKE\"]\n",
    "\n",
    "events = []\n",
    "\n",
    "for idx, game in tqdm(regular_ot.iterrows(), total=len(regular_ot)):\n",
    "    mask = ((pbp[\"Game_Id\"] == game[\"Game_Id\"])\n",
    "            & (pbp[\"Season\"] == game[\"Season\"])\n",
    "            & (pbp[\"Period\"] == 4))\n",
    "    reduced = pbp[mask]\n",
    "\n",
    "    for idx, play in reduced.iterrows():\n",
    "        # first event will always be a faceoff\n",
    "        if play[\"Event\"] in valid_events:\n",
    "            event = {\n",
    "                \"game\": game[\"Game_Id\"],\n",
    "                \"season\": game[\"Season\"],\n",
    "                \"away_elo\": game[\"Away_Starting_Elo\"],\n",
    "                \"home_elo\": game[\"Home_Starting_Elo\"],\n",
    "                \"time_remaining\": 300 - play[\"Seconds_Elapsed\"],  # 5 minutes in OT\n",
    "                \"event\": play[\"Event\"],\n",
    "                \"team\": \"home\" if play[\"Ev_Team\"] == play[\"Home_Team\"] else \"away\",\n",
    "                \"event_zone\": play[\"Ev_Zone\"],\n",
    "                \"home_zone\": play[\"Home_Zone\"],\n",
    "                \"strength\": play[\"Strength\"],\n",
    "                \"winner\": \"home\" if game[\"Home_Score\"] > game[\"Away_Score\"] else \"away\"\n",
    "            }\n",
    "\n",
    "            events.append(event)"
   ]
  },
  {
   "cell_type": "code",
   "execution_count": 16,
   "metadata": {},
   "outputs": [],
   "source": [
    "df = pd.DataFrame(events)\n",
    "df.to_parquet(\"../data/regular_ot_pbp.parquet\")"
   ]
  }
 ],
 "metadata": {
  "kernelspec": {
   "display_name": ".venv",
   "language": "python",
   "name": "python3"
  },
  "language_info": {
   "codemirror_mode": {
    "name": "ipython",
    "version": 3
   },
   "file_extension": ".py",
   "mimetype": "text/x-python",
   "name": "python",
   "nbconvert_exporter": "python",
   "pygments_lexer": "ipython3",
   "version": "3.10.12"
  }
 },
 "nbformat": 4,
 "nbformat_minor": 2
}
